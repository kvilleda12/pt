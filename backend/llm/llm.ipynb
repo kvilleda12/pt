{
 "cells": [
  {
   "cell_type": "code",
   "execution_count": null,
   "metadata": {
    "vscode": {
     "languageId": "javascript"
    }
   },
   "outputs": [],
   "source": [
    "import { Ollama} from \"langchain/llms/ollama\";\n",
    "const ollama = new Ollama({\n",
    "    baseUrl: \"https://localhost:11434\",\n",
    "    model: 'mistral',\n",
    "});\n",
    "const stream = await ollama.stream(\"hello how are you\")\n",
    "const chunks = [] \n",
    "for await (const chunks of stream) { \n",
    "    chunks.push(chunk);\n",
    "}\n",
    "\n",
    "console.log(chunks.join(\"\"));"
   ]
  },
  {
   "cell_type": "code",
   "execution_count": null,
   "metadata": {
    "vscode": {
     "languageId": "javascript"
    }
   },
   "outputs": [],
   "source": []
  }
 ],
 "metadata": {
  "language_info": {
   "name": "python"
  },
  "orig_nbformat": 4
 },
 "nbformat": 4,
 "nbformat_minor": 2
}
